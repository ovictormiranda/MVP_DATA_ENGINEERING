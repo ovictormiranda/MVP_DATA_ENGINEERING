{
 "cells": [
  {
   "cell_type": "markdown",
   "metadata": {
    "application/vnd.databricks.v1+cell": {
     "cellMetadata": {
      "byteLimit": 2048000,
      "rowLimit": 10000
     },
     "inputWidgets": {},
     "nuid": "168a6ac6-1c41-4655-947d-ecb16cbc6853",
     "showTitle": false,
     "title": ""
    }
   },
   "source": [
    "#Bronze Layer: Raw Data Collection\n",
    "The Bronze Layer involves collecting raw data directly from the source, which in this case is the StatsBomb API. This data is unprocessed and includes all details provided by the API. The goal of this layer is to gather comprehensive data that can later be cleaned and transformed in subsequent layers.\n"
   ]
  },
  {
   "cell_type": "code",
   "execution_count": 0,
   "metadata": {
    "application/vnd.databricks.v1+cell": {
     "cellMetadata": {
      "byteLimit": 2048000,
      "rowLimit": 10000
     },
     "collapsed": true,
     "inputWidgets": {},
     "nuid": "1d81af26-206e-4a60-acf8-f2a7475d043b",
     "showTitle": false,
     "title": ""
    }
   },
   "outputs": [
    {
     "output_type": "stream",
     "name": "stdout",
     "output_type": "stream",
     "text": [
      "Python interpreter will be restarted.\nRequirement already satisfied: requests in /databricks/python3/lib/python3.9/site-packages (2.27.1)\nCollecting pyspark\n  Downloading pyspark-3.5.1.tar.gz (317.0 MB)\nRequirement already satisfied: idna<4,>=2.5 in /databricks/python3/lib/python3.9/site-packages (from requests) (3.3)\nRequirement already satisfied: charset-normalizer~=2.0.0 in /databricks/python3/lib/python3.9/site-packages (from requests) (2.0.4)\nRequirement already satisfied: urllib3<1.27,>=1.21.1 in /databricks/python3/lib/python3.9/site-packages (from requests) (1.26.9)\nRequirement already satisfied: certifi>=2017.4.17 in /databricks/python3/lib/python3.9/site-packages (from requests) (2021.10.8)\nCollecting py4j==0.10.9.7\n  Downloading py4j-0.10.9.7-py2.py3-none-any.whl (200 kB)\nBuilding wheels for collected packages: pyspark\n  Building wheel for pyspark (setup.py): started\n  Building wheel for pyspark (setup.py): finished with status 'done'\n  Created wheel for pyspark: filename=pyspark-3.5.1-py2.py3-none-any.whl size=317488511 sha256=31705870cfce7ad17aacb1c018e47ac362505140503dd43c2765b2b6ff6839db\n  Stored in directory: /root/.cache/pip/wheels/92/09/11/aa01d01a7f005fda8a66ad71d2be7f8aa341bddafb27eee3c7\nSuccessfully built pyspark\nInstalling collected packages: py4j, pyspark\nSuccessfully installed py4j-0.10.9.7 pyspark-3.5.1\nPython interpreter will be restarted.\n"
     ]
    }
   ],
   "source": [
    "pip install requests pyspark"
   ]
  },
  {
   "cell_type": "code",
   "execution_count": 0,
   "metadata": {
    "application/vnd.databricks.v1+cell": {
     "cellMetadata": {
      "byteLimit": 2048000,
      "rowLimit": 10000
     },
     "inputWidgets": {},
     "nuid": "607d6fb2-d2b7-428d-977d-147c3d41f4ec",
     "showTitle": false,
     "title": ""
    }
   },
   "outputs": [
    {
     "output_type": "display_data",
     "data": {
      "application/vnd.databricks.v1+bamboolib_hint": "{\"pd.DataFrames\": [], \"version\": \"0.0.1\"}",
      "text/plain": []
     },
     "metadata": {},
     "output_type": "display_data"
    }
   ],
   "source": [
    "#importing project dependencies \n",
    "import json\n",
    "import requests\n",
    "import pandas as pd\n",
    "\n",
    "from pandas import json_normalize\n",
    "from pyspark.sql import SparkSession\n",
    "from pyspark.sql.types import StructType"
   ]
  },
  {
   "cell_type": "markdown",
   "metadata": {
    "application/vnd.databricks.v1+cell": {
     "cellMetadata": {},
     "inputWidgets": {},
     "nuid": "89e65aa8-2221-4386-8503-cac1945ad89d",
     "showTitle": false,
     "title": ""
    }
   },
   "source": [
    "We will use data for each movement of Messi in every La Liga match. To achieve this, we need some information about these matches. The API link we will query returns data **for each match**. Therefore, we need to identify which matches these are (**match_id**), and to capture this information, we need to know the specific season and competition (**season_id** and **competition_id**).\n",
    "\n",
    "To streamline the development, I start by storing some information about Messi. Next, I make the first query to the StatsBomb API to get a list of all competitions that the company freely provides."
   ]
  },
  {
   "cell_type": "code",
   "execution_count": 0,
   "metadata": {
    "application/vnd.databricks.v1+cell": {
     "cellMetadata": {
      "byteLimit": 2048000,
      "rowLimit": 10000
     },
     "inputWidgets": {},
     "nuid": "b677d3df-25dc-475c-acf7-df6ae00ba285",
     "showTitle": false,
     "title": ""
    }
   },
   "outputs": [],
   "source": [
    "#Lionel Messi Basic Information\n",
    "messi_fullname = 'Lionel Andrés Messi Cuccittini'\n",
    "messi_competition = 'La Liga'\n",
    "messi_competition_gender = 'male'\n",
    "messi_team = 'Barcelona'\n",
    "messi_seasons = ['2020/2021', '2019/2020', '2018/2019', '2017/2018', '2016/2017', '2015/2016', '2014/2015',\n",
    "                 '2013/2014', '2012/2013', '2011/2012', '2010/2011', '2009/2010', '2008/2009', '2007/2008',\n",
    "                 '2006/2007', '2005/2006', '2004/2005']"
   ]
  },
  {
   "cell_type": "code",
   "execution_count": 0,
   "metadata": {
    "application/vnd.databricks.v1+cell": {
     "cellMetadata": {
      "byteLimit": 2048000,
      "rowLimit": 10000
     },
     "inputWidgets": {},
     "nuid": "e4bc59a8-ccff-4094-86bc-09157dc201ac",
     "showTitle": false,
     "title": ""
    }
   },
   "outputs": [],
   "source": [
    "#Load the competition file from StatsBomb open data folder at Github\n",
    "competitions = requests.get('https://raw.githubusercontent.com/statsbomb/open-data/master/data/competitions.json')\n",
    "competitions = competitions.json()"
   ]
  },
  {
   "cell_type": "markdown",
   "metadata": {
    "application/vnd.databricks.v1+cell": {
     "cellMetadata": {},
     "inputWidgets": {},
     "nuid": "30fd0eda-8d65-44dc-ae44-07519dc48eea",
     "showTitle": false,
     "title": ""
    }
   },
   "source": [
    "To understand more about the data, I print a list of all the data related to La Liga and notice that we have data available for more years than we need, including seasons in which Messi did not compete."
   ]
  },
  {
   "cell_type": "code",
   "execution_count": 0,
   "metadata": {
    "application/vnd.databricks.v1+cell": {
     "cellMetadata": {
      "byteLimit": 2048000,
      "rowLimit": 10000
     },
     "inputWidgets": {},
     "nuid": "f54f9123-a526-46ba-9787-c10d542369c0",
     "showTitle": false,
     "title": ""
    }
   },
   "outputs": [
    {
     "output_type": "stream",
     "name": "stdout",
     "output_type": "stream",
     "text": [
      "{'competition_id': 11, 'season_id': 90, 'country_name': 'Spain', 'competition_name': 'La Liga', 'competition_gender': 'male', 'competition_youth': False, 'competition_international': False, 'season_name': '2020/2021', 'match_updated': '2023-11-15T10:25:53.245065', 'match_updated_360': '2023-11-15T10:29:14.475865', 'match_available_360': '2023-11-15T10:29:14.475865', 'match_available': '2023-11-15T10:25:53.245065'}\n{'competition_id': 11, 'season_id': 42, 'country_name': 'Spain', 'competition_name': 'La Liga', 'competition_gender': 'male', 'competition_youth': False, 'competition_international': False, 'season_name': '2019/2020', 'match_updated': '2024-03-10T11:29:39.412759', 'match_updated_360': '2021-06-13T16:17:31.694', 'match_available_360': None, 'match_available': '2024-03-10T11:29:39.412759'}\n{'competition_id': 11, 'season_id': 4, 'country_name': 'Spain', 'competition_name': 'La Liga', 'competition_gender': 'male', 'competition_youth': False, 'competition_international': False, 'season_name': '2018/2019', 'match_updated': '2024-03-10T11:29:26.339305', 'match_updated_360': '2021-07-09T14:53:22.103024', 'match_available_360': None, 'match_available': '2024-03-10T11:29:26.339305'}\n{'competition_id': 11, 'season_id': 1, 'country_name': 'Spain', 'competition_name': 'La Liga', 'competition_gender': 'male', 'competition_youth': False, 'competition_international': False, 'season_name': '2017/2018', 'match_updated': '2024-05-13T13:07:18.149811', 'match_updated_360': '2021-06-13T16:17:31.694', 'match_available_360': None, 'match_available': '2024-05-13T13:07:18.149811'}\n{'competition_id': 11, 'season_id': 2, 'country_name': 'Spain', 'competition_name': 'La Liga', 'competition_gender': 'male', 'competition_youth': False, 'competition_international': False, 'season_name': '2016/2017', 'match_updated': '2024-03-12T08:49:46.449084', 'match_updated_360': '2021-06-13T16:17:31.694', 'match_available_360': None, 'match_available': '2024-03-12T08:49:46.449084'}\n{'competition_id': 11, 'season_id': 27, 'country_name': 'Spain', 'competition_name': 'La Liga', 'competition_gender': 'male', 'competition_youth': False, 'competition_international': False, 'season_name': '2015/2016', 'match_updated': '2024-05-16T14:06:52.149840', 'match_updated_360': '2021-06-13T16:17:31.694', 'match_available_360': None, 'match_available': '2024-05-16T14:06:52.149840'}\n{'competition_id': 11, 'season_id': 26, 'country_name': 'Spain', 'competition_name': 'La Liga', 'competition_gender': 'male', 'competition_youth': False, 'competition_international': False, 'season_name': '2014/2015', 'match_updated': '2023-09-20T17:22:28.925900', 'match_updated_360': '2021-06-13T16:17:31.694', 'match_available_360': None, 'match_available': '2023-09-20T17:22:28.925900'}\n{'competition_id': 11, 'season_id': 25, 'country_name': 'Spain', 'competition_name': 'La Liga', 'competition_gender': 'male', 'competition_youth': False, 'competition_international': False, 'season_name': '2013/2014', 'match_updated': '2022-07-23T12:18:49.547396', 'match_updated_360': '2021-06-13T16:17:31.694', 'match_available_360': None, 'match_available': '2022-07-23T12:18:49.547396'}\n{'competition_id': 11, 'season_id': 24, 'country_name': 'Spain', 'competition_name': 'La Liga', 'competition_gender': 'male', 'competition_youth': False, 'competition_international': False, 'season_name': '2012/2013', 'match_updated': '2024-03-10T11:24:05.201066', 'match_updated_360': '2021-06-13T16:17:31.694', 'match_available_360': None, 'match_available': '2024-03-10T11:24:05.201066'}\n{'competition_id': 11, 'season_id': 23, 'country_name': 'Spain', 'competition_name': 'La Liga', 'competition_gender': 'male', 'competition_youth': False, 'competition_international': False, 'season_name': '2011/2012', 'match_updated': '2022-12-01T14:10:17.791769', 'match_updated_360': '2021-06-13T16:17:31.694', 'match_available_360': None, 'match_available': '2022-12-01T14:10:17.791769'}\n{'competition_id': 11, 'season_id': 22, 'country_name': 'Spain', 'competition_name': 'La Liga', 'competition_gender': 'male', 'competition_youth': False, 'competition_international': False, 'season_name': '2010/2011', 'match_updated': '2023-04-19T10:48:44.079830', 'match_updated_360': '2021-06-13T16:17:31.694', 'match_available_360': None, 'match_available': '2023-04-19T10:48:44.079830'}\n{'competition_id': 11, 'season_id': 21, 'country_name': 'Spain', 'competition_name': 'La Liga', 'competition_gender': 'male', 'competition_youth': False, 'competition_international': False, 'season_name': '2009/2010', 'match_updated': '2023-11-29T10:55:10.039117', 'match_updated_360': '2021-06-13T16:17:31.694', 'match_available_360': None, 'match_available': '2023-11-29T10:55:10.039117'}\n{'competition_id': 11, 'season_id': 41, 'country_name': 'Spain', 'competition_name': 'La Liga', 'competition_gender': 'male', 'competition_youth': False, 'competition_international': False, 'season_name': '2008/2009', 'match_updated': '2023-04-19T10:46:29.203565', 'match_updated_360': '2021-06-13T16:17:31.694', 'match_available_360': None, 'match_available': '2023-04-19T10:46:29.203565'}\n{'competition_id': 11, 'season_id': 40, 'country_name': 'Spain', 'competition_name': 'La Liga', 'competition_gender': 'male', 'competition_youth': False, 'competition_international': False, 'season_name': '2007/2008', 'match_updated': '2023-04-19T10:42:35.284291', 'match_updated_360': '2021-06-13T16:17:31.694', 'match_available_360': None, 'match_available': '2023-04-19T10:42:35.284291'}\n{'competition_id': 11, 'season_id': 39, 'country_name': 'Spain', 'competition_name': 'La Liga', 'competition_gender': 'male', 'competition_youth': False, 'competition_international': False, 'season_name': '2006/2007', 'match_updated': '2023-03-26T23:19:39.125951', 'match_updated_360': '2021-06-13T16:17:31.694', 'match_available_360': None, 'match_available': '2023-03-26T23:19:39.125951'}\n{'competition_id': 11, 'season_id': 38, 'country_name': 'Spain', 'competition_name': 'La Liga', 'competition_gender': 'male', 'competition_youth': False, 'competition_international': False, 'season_name': '2005/2006', 'match_updated': '2022-07-03T12:34:31.749038', 'match_updated_360': '2021-06-13T16:17:31.694', 'match_available_360': None, 'match_available': '2022-07-03T12:34:31.749038'}\n{'competition_id': 11, 'season_id': 37, 'country_name': 'Spain', 'competition_name': 'La Liga', 'competition_gender': 'male', 'competition_youth': False, 'competition_international': False, 'season_name': '2004/2005', 'match_updated': '2023-11-29T10:56:10.031508', 'match_updated_360': '2021-06-13T16:17:31.694', 'match_available_360': None, 'match_available': '2023-11-29T10:56:10.031508'}\n{'competition_id': 11, 'season_id': 278, 'country_name': 'Spain', 'competition_name': 'La Liga', 'competition_gender': 'male', 'competition_youth': False, 'competition_international': False, 'season_name': '1973/1974', 'match_updated': '2023-07-06T12:50:48.807820', 'match_updated_360': None, 'match_available_360': None, 'match_available': '2023-07-06T12:50:48.807820'}\n"
     ]
    }
   ],
   "source": [
    "#Print all the competitions with competition_name: La Liga\n",
    "for competition in competitions:\n",
    "    if competition['competition_name'] == messi_competition:\n",
    "        print(competition)"
   ]
  },
  {
   "cell_type": "markdown",
   "metadata": {
    "application/vnd.databricks.v1+cell": {
     "cellMetadata": {},
     "inputWidgets": {},
     "nuid": "70e73152-98d1-4433-8073-9a8d090a3f76",
     "showTitle": false,
     "title": ""
    }
   },
   "source": [
    "So, I decide to generate a list with a more focused search, returning only the data that will be useful for the analysis. I already understood that 11 is the identification for La Liga in this database. Now, I generate a list with all the season IDs in which Messi participated.\n"
   ]
  },
  {
   "cell_type": "code",
   "execution_count": 0,
   "metadata": {
    "application/vnd.databricks.v1+cell": {
     "cellMetadata": {
      "byteLimit": 2048000,
      "rowLimit": 10000
     },
     "inputWidgets": {},
     "nuid": "c28c6f84-2a67-4454-ae1d-9c9254ed0e77",
     "showTitle": false,
     "title": ""
    }
   },
   "outputs": [
    {
     "output_type": "stream",
     "name": "stdout",
     "output_type": "stream",
     "text": [
      "{'competition_id': 11, 'season_id': 90, 'country_name': 'Spain', 'competition_name': 'La Liga', 'competition_gender': 'male', 'competition_youth': False, 'competition_international': False, 'season_name': '2020/2021', 'match_updated': '2023-11-15T10:25:53.245065', 'match_updated_360': '2023-11-15T10:29:14.475865', 'match_available_360': '2023-11-15T10:29:14.475865', 'match_available': '2023-11-15T10:25:53.245065'}\n{'competition_id': 11, 'season_id': 42, 'country_name': 'Spain', 'competition_name': 'La Liga', 'competition_gender': 'male', 'competition_youth': False, 'competition_international': False, 'season_name': '2019/2020', 'match_updated': '2024-03-10T11:29:39.412759', 'match_updated_360': '2021-06-13T16:17:31.694', 'match_available_360': None, 'match_available': '2024-03-10T11:29:39.412759'}\n{'competition_id': 11, 'season_id': 4, 'country_name': 'Spain', 'competition_name': 'La Liga', 'competition_gender': 'male', 'competition_youth': False, 'competition_international': False, 'season_name': '2018/2019', 'match_updated': '2024-03-10T11:29:26.339305', 'match_updated_360': '2021-07-09T14:53:22.103024', 'match_available_360': None, 'match_available': '2024-03-10T11:29:26.339305'}\n{'competition_id': 11, 'season_id': 1, 'country_name': 'Spain', 'competition_name': 'La Liga', 'competition_gender': 'male', 'competition_youth': False, 'competition_international': False, 'season_name': '2017/2018', 'match_updated': '2024-05-13T13:07:18.149811', 'match_updated_360': '2021-06-13T16:17:31.694', 'match_available_360': None, 'match_available': '2024-05-13T13:07:18.149811'}\n{'competition_id': 11, 'season_id': 2, 'country_name': 'Spain', 'competition_name': 'La Liga', 'competition_gender': 'male', 'competition_youth': False, 'competition_international': False, 'season_name': '2016/2017', 'match_updated': '2024-03-12T08:49:46.449084', 'match_updated_360': '2021-06-13T16:17:31.694', 'match_available_360': None, 'match_available': '2024-03-12T08:49:46.449084'}\n{'competition_id': 11, 'season_id': 27, 'country_name': 'Spain', 'competition_name': 'La Liga', 'competition_gender': 'male', 'competition_youth': False, 'competition_international': False, 'season_name': '2015/2016', 'match_updated': '2024-05-16T14:06:52.149840', 'match_updated_360': '2021-06-13T16:17:31.694', 'match_available_360': None, 'match_available': '2024-05-16T14:06:52.149840'}\n{'competition_id': 11, 'season_id': 26, 'country_name': 'Spain', 'competition_name': 'La Liga', 'competition_gender': 'male', 'competition_youth': False, 'competition_international': False, 'season_name': '2014/2015', 'match_updated': '2023-09-20T17:22:28.925900', 'match_updated_360': '2021-06-13T16:17:31.694', 'match_available_360': None, 'match_available': '2023-09-20T17:22:28.925900'}\n{'competition_id': 11, 'season_id': 25, 'country_name': 'Spain', 'competition_name': 'La Liga', 'competition_gender': 'male', 'competition_youth': False, 'competition_international': False, 'season_name': '2013/2014', 'match_updated': '2022-07-23T12:18:49.547396', 'match_updated_360': '2021-06-13T16:17:31.694', 'match_available_360': None, 'match_available': '2022-07-23T12:18:49.547396'}\n{'competition_id': 11, 'season_id': 24, 'country_name': 'Spain', 'competition_name': 'La Liga', 'competition_gender': 'male', 'competition_youth': False, 'competition_international': False, 'season_name': '2012/2013', 'match_updated': '2024-03-10T11:24:05.201066', 'match_updated_360': '2021-06-13T16:17:31.694', 'match_available_360': None, 'match_available': '2024-03-10T11:24:05.201066'}\n{'competition_id': 11, 'season_id': 23, 'country_name': 'Spain', 'competition_name': 'La Liga', 'competition_gender': 'male', 'competition_youth': False, 'competition_international': False, 'season_name': '2011/2012', 'match_updated': '2022-12-01T14:10:17.791769', 'match_updated_360': '2021-06-13T16:17:31.694', 'match_available_360': None, 'match_available': '2022-12-01T14:10:17.791769'}\n{'competition_id': 11, 'season_id': 22, 'country_name': 'Spain', 'competition_name': 'La Liga', 'competition_gender': 'male', 'competition_youth': False, 'competition_international': False, 'season_name': '2010/2011', 'match_updated': '2023-04-19T10:48:44.079830', 'match_updated_360': '2021-06-13T16:17:31.694', 'match_available_360': None, 'match_available': '2023-04-19T10:48:44.079830'}\n{'competition_id': 11, 'season_id': 21, 'country_name': 'Spain', 'competition_name': 'La Liga', 'competition_gender': 'male', 'competition_youth': False, 'competition_international': False, 'season_name': '2009/2010', 'match_updated': '2023-11-29T10:55:10.039117', 'match_updated_360': '2021-06-13T16:17:31.694', 'match_available_360': None, 'match_available': '2023-11-29T10:55:10.039117'}\n{'competition_id': 11, 'season_id': 41, 'country_name': 'Spain', 'competition_name': 'La Liga', 'competition_gender': 'male', 'competition_youth': False, 'competition_international': False, 'season_name': '2008/2009', 'match_updated': '2023-04-19T10:46:29.203565', 'match_updated_360': '2021-06-13T16:17:31.694', 'match_available_360': None, 'match_available': '2023-04-19T10:46:29.203565'}\n{'competition_id': 11, 'season_id': 40, 'country_name': 'Spain', 'competition_name': 'La Liga', 'competition_gender': 'male', 'competition_youth': False, 'competition_international': False, 'season_name': '2007/2008', 'match_updated': '2023-04-19T10:42:35.284291', 'match_updated_360': '2021-06-13T16:17:31.694', 'match_available_360': None, 'match_available': '2023-04-19T10:42:35.284291'}\n{'competition_id': 11, 'season_id': 39, 'country_name': 'Spain', 'competition_name': 'La Liga', 'competition_gender': 'male', 'competition_youth': False, 'competition_international': False, 'season_name': '2006/2007', 'match_updated': '2023-03-26T23:19:39.125951', 'match_updated_360': '2021-06-13T16:17:31.694', 'match_available_360': None, 'match_available': '2023-03-26T23:19:39.125951'}\n{'competition_id': 11, 'season_id': 38, 'country_name': 'Spain', 'competition_name': 'La Liga', 'competition_gender': 'male', 'competition_youth': False, 'competition_international': False, 'season_name': '2005/2006', 'match_updated': '2022-07-03T12:34:31.749038', 'match_updated_360': '2021-06-13T16:17:31.694', 'match_available_360': None, 'match_available': '2022-07-03T12:34:31.749038'}\n{'competition_id': 11, 'season_id': 37, 'country_name': 'Spain', 'competition_name': 'La Liga', 'competition_gender': 'male', 'competition_youth': False, 'competition_international': False, 'season_name': '2004/2005', 'match_updated': '2023-11-29T10:56:10.031508', 'match_updated_360': '2021-06-13T16:17:31.694', 'match_available_360': None, 'match_available': '2023-11-29T10:56:10.031508'}\n"
     ]
    }
   ],
   "source": [
    "messi_competition_id = 11\n",
    "\n",
    "#Creating a list of all Messi's season_id\n",
    "messi_seasons_idList = []\n",
    "\n",
    "for competition in competitions:\n",
    "    if competition['competition_name'] == messi_competition and competition['competition_gender'] == messi_competition_gender and competition['season_name'] in messi_seasons:\n",
    "        messi_seasons_idList.append(competition['season_id'])\n",
    "        print(competition)"
   ]
  },
  {
   "cell_type": "markdown",
   "metadata": {
    "application/vnd.databricks.v1+cell": {
     "cellMetadata": {},
     "inputWidgets": {},
     "nuid": "da199894-ad99-4bb1-89f3-8d23daee9321",
     "showTitle": false,
     "title": ""
    }
   },
   "source": [
    "With the **season_id and competition_id** information in hand, it's possible to capture the **match_id** for each match played in these competitions and each season. I decide to store the data of each match in an array.\n",
    "\n",
    "To do this, I create a function to capture this data, and to ensure that only the data of interest is stored, I create a list containing only the **match_id** where Barcelona played, either as the home or away team."
   ]
  },
  {
   "cell_type": "code",
   "execution_count": 0,
   "metadata": {
    "application/vnd.databricks.v1+cell": {
     "cellMetadata": {
      "byteLimit": 2048000,
      "rowLimit": 10000
     },
     "inputWidgets": {},
     "nuid": "93dc060b-503e-4d05-9afe-aced98b34461",
     "showTitle": false,
     "title": ""
    }
   },
   "outputs": [],
   "source": [
    "#  Request Function to get all Messi`s match\n",
    "def fetch_matches(season_id, competition_id):\n",
    "    url = f'https://raw.githubusercontent.com/statsbomb/open-data/master/data/matches/{competition_id}/{season_id}.json'\n",
    "    response = requests.get(url)\n",
    "    return response.json()\n",
    "\n",
    "# Store the results here\n",
    "messi_all_matches = []\n",
    "\n",
    "# Iterate over all seasons to get the array filled\n",
    "for season_id in messi_seasons_idList:\n",
    "    matches = fetch_matches(season_id, messi_competition_id)\n",
    "    messi_all_matches.extend(matches)"
   ]
  },
  {
   "cell_type": "code",
   "execution_count": 0,
   "metadata": {
    "application/vnd.databricks.v1+cell": {
     "cellMetadata": {
      "byteLimit": 2048000,
      "rowLimit": 10000
     },
     "inputWidgets": {},
     "nuid": "eb067106-9ec2-451c-ad35-cb5e77b20e0c",
     "showTitle": false,
     "title": ""
    }
   },
   "outputs": [],
   "source": [
    "messi_matchesId_list = []\n",
    "for match in messi_all_matches:\n",
    "    if match['home_team']['home_team_name'] == messi_team or match['away_team']['away_team_name'] == messi_team:\n",
    "        messi_matchesId_list.append(match['match_id'])"
   ]
  },
  {
   "cell_type": "markdown",
   "metadata": {
    "application/vnd.databricks.v1+cell": {
     "cellMetadata": {},
     "inputWidgets": {},
     "nuid": "73d9b303-774c-480f-91e2-6c462f346533",
     "showTitle": false,
     "title": ""
    }
   },
   "source": [
    "With this metadata, it's indeed possible to capture all the events from all matches. To do this, I create a function that retrieves the information for each match and stores it in an array."
   ]
  },
  {
   "cell_type": "code",
   "execution_count": 0,
   "metadata": {
    "application/vnd.databricks.v1+cell": {
     "cellMetadata": {
      "byteLimit": 2048000,
      "rowLimit": 10000
     },
     "inputWidgets": {},
     "nuid": "0531e2d7-df35-4692-875e-dc4a3304d6c9",
     "showTitle": false,
     "title": ""
    }
   },
   "outputs": [],
   "source": [
    "\n",
    "# Starting Spark Session\n",
    "spark = SparkSession.builder.appName(\"MessiEventsToParquet\").getOrCreate()\n"
   ]
  },
  {
   "cell_type": "markdown",
   "metadata": {
    "application/vnd.databricks.v1+cell": {
     "cellMetadata": {},
     "inputWidgets": {},
     "nuid": "d32ef925-7d81-4c6d-b8b1-808010b61816",
     "showTitle": false,
     "title": ""
    }
   },
   "source": [
    "Undoubtedly, this was the biggest challenge of the project. I tried at least 4 different approaches until I managed to solve it with the method below. I developed the code in Google Colab (my experimental lab), and it worked there. However, when I tried to run it in a Databricks notebook and transform the complete JSON array into a flattened DataFrame using *pd.json_normalize*, it was consuming too much memory and couldn't complete the operation.\n",
    "\n",
    "As a Plan B, I went back to Colab and transformed the DataFrame into a CSV file, which ended up being 98MB in size. I saved it to Google Drive (since GitHub has a 25MB limit), then read the file, converted it to a Spark DataFrame, and saved it in Parquet format.\n",
    "\n",
    "But as a last attempt to resolve everything here without resorting to Plan B, I approached it as follows: I divided the tasks into batches of approximately 20,000 records, generated logs to monitor the code execution, and it worked. The downside of this approach is that, based on my knowledge, pandas handles complex data better than Spark. Due to the nested data structure, Spark couldn't handle it well and generated errors for 3 columns: 'tactics_lineup', 'shot_freeze_frame', and 'related_events', which I had to ignore to make it work. Since these columns were not relevant for the analysis objective, I decided to keep it that way.\n",
    "\n",
    "A point for improvement would be to further study and explore Spark to find a better way to handle complex data structures, avoiding the need to ignore columns during the process."
   ]
  },
  {
   "cell_type": "code",
   "execution_count": 0,
   "metadata": {
    "application/vnd.databricks.v1+cell": {
     "cellMetadata": {
      "byteLimit": 2048000,
      "rowLimit": 10000
     },
     "inputWidgets": {},
     "nuid": "37e2cf47-a738-403a-9e5c-aa0e03bc8e6a",
     "showTitle": false,
     "title": ""
    }
   },
   "outputs": [],
   "source": [
    "# Request Function to get all Messi`s events in a match\n",
    "def fetch_messi_events(match_id):\n",
    "    url = f'https://raw.githubusercontent.com/statsbomb/open-data/master/data/events/{match_id}.json'\n",
    "    response = requests.get(url)\n",
    "    return response.json()\n",
    "\n",
    "# Function to eliminate complex columns and save the rest of the data into a Spark table\n",
    "def save_to_spark(df, spark_table_name):\n",
    "    complex_cols = ['tactics_lineup', 'shot_freeze_frame', 'related_events']\n",
    "    for col in complex_cols:\n",
    "        if col in df.columns:\n",
    "            df = df.drop(columns=[col])\n",
    "\n",
    "    spark_df = spark.createDataFrame(df)\n",
    "    spark_df.write.option(\"mergeSchema\", \"true\").mode('append').saveAsTable(spark_table_name)"
   ]
  },
  {
   "cell_type": "code",
   "execution_count": 0,
   "metadata": {
    "application/vnd.databricks.v1+cell": {
     "cellMetadata": {
      "byteLimit": 2048000,
      "rowLimit": 10000
     },
     "inputWidgets": {},
     "nuid": "d01988be-76c2-47b2-a5f8-0e0292925493",
     "showTitle": false,
     "title": ""
    }
   },
   "outputs": [
    {
     "output_type": "stream",
     "name": "stdout",
     "output_type": "stream",
     "text": [
      "Batch 1 processado. Size: 20063\nBatch 1 flattened.\nBatch 1 Saved on Spark table.\nBatch 2 processado. Size: 24178\nBatch 2 flattened.\nBatch 2 Saved on Spark table.\nBatch 3 processado. Size: 23063\nBatch 3 flattened.\nBatch 3 Saved on Spark table.\nBatch 4 processado. Size: 20641\nBatch 4 flattened.\nBatch 4 Saved on Spark table.\nBatch 5 processado. Size: 23430\nBatch 5 flattened.\nBatch 5 Saved on Spark table.\nBatch 6 processado. Size: 23875\nBatch 6 flattened.\nBatch 6 Saved on Spark table.\nBatch 7 processado. Size: 23561\nBatch 7 flattened.\nBatch 7 Saved on Spark table.\nBatch 8 processado. Size: 20117\nBatch 8 flattened.\nBatch 8 Saved on Spark table.\nBatch 9 processado. Size: 23440\nBatch 9 flattened.\nBatch 9 Saved on Spark table.\nBatch 10 processado. Size: 23360\nBatch 10 flattened.\nBatch 10 Saved on Spark table.\nBatch 11 processado. Size: 22766\nBatch 11 flattened.\nBatch 11 Saved on Spark table.\nBatch 12 processado. Size: 23499\nBatch 12 flattened.\nBatch 12 Saved on Spark table.\nBatch 13 processado. Size: 23028\nBatch 13 flattened.\nBatch 13 Saved on Spark table.\nBatch 14 processado. Size: 23620\nBatch 14 flattened.\nBatch 14 Saved on Spark table.\nBatch 15 processado. Size: 23873\nBatch 15 flattened.\nBatch 15 Saved on Spark table.\nBatch 16 processado. Size: 22517\nBatch 16 flattened.\nBatch 16 Saved on Spark table.\nBatch 17 processado. Size: 23625\nBatch 17 flattened.\nBatch 17 Saved on Spark table.\nBatch 18 processado. Size: 22901\nBatch 18 flattened.\nBatch 18 Saved on Spark table.\nBatch 19 processado. Size: 22522\nBatch 19 flattened.\nBatch 19 Saved on Spark table.\nBatch 20 processado. Size: 22892\nBatch 20 flattened.\nBatch 20 Saved on Spark table.\nBatch 21 processado. Size: 22608\nBatch 21 flattened.\nBatch 21 Saved on Spark table.\nBatch 22 processado. Size: 23253\nBatch 22 flattened.\nBatch 22 Saved on Spark table.\nBatch 23 processado. Size: 22089\nBatch 23 flattened.\nBatch 23 Saved on Spark table.\nBatch 24 processado. Size: 22859\nBatch 24 flattened.\nBatch 24 Saved on Spark table.\nBatch 25 processado. Size: 21352\nBatch 25 flattened.\nBatch 25 Saved on Spark table.\nBatch 26 processado. Size: 22304\nBatch 26 flattened.\nBatch 26 Saved on Spark table.\nBatch 27 processado. Size: 21962\nBatch 27 flattened.\nBatch 27 Saved on Spark table.\nBatch 28 processado. Size: 22533\nBatch 28 flattened.\nBatch 28 Saved on Spark table.\nBatch 29 processado. Size: 21582\nBatch 29 flattened.\nBatch 29 Saved on Spark table.\nBatch 30 processado. Size: 21296\nBatch 30 flattened.\nBatch 30 Saved on Spark table.\nBatch 31 processado. Size: 22161\nBatch 31 flattened.\nBatch 31 Saved on Spark table.\nBatch 32 processado. Size: 20955\nBatch 32 flattened.\nBatch 32 Saved on Spark table.\nBatch 33 processado. Size: 22232\nBatch 33 flattened.\nBatch 33 Saved on Spark table.\nBatch 34 processado. Size: 21984\nBatch 34 flattened.\nBatch 34 Saved on Spark table.\nBatch 35 processado. Size: 22691\nBatch 35 flattened.\nBatch 35 Saved on Spark table.\nBatch 36 processado. Size: 22257\nBatch 36 flattened.\nBatch 36 Saved on Spark table.\nBatch 37 processado. Size: 23493\nBatch 37 flattened.\nBatch 37 Saved on Spark table.\nBatch 38 processado. Size: 22279\nBatch 38 flattened.\nBatch 38 Saved on Spark table.\nBatch 39 processado. Size: 21528\nBatch 39 flattened.\nBatch 39 Saved on Spark table.\nBatch 40 processado. Size: 22274\nBatch 40 flattened.\nBatch 40 Saved on Spark table.\nBatch 41 processado. Size: 22737\nBatch 41 flattened.\nBatch 41 Saved on Spark table.\nBatch 42 processado. Size: 23154\nBatch 42 flattened.\nBatch 42 Saved on Spark table.\nBatch 43 processado. Size: 22706\nBatch 43 flattened.\nBatch 43 Saved on Spark table.\nBatch 44 processado. Size: 22496\nBatch 44 flattened.\nBatch 44 Saved on Spark table.\nBatch 45 processado. Size: 22512\nBatch 45 flattened.\nBatch 45 Saved on Spark table.\nBatch 46 processado. Size: 23211\nBatch 46 flattened.\nBatch 46 Saved on Spark table.\nBatch 47 processado. Size: 23257\nBatch 47 flattened.\nBatch 47 Saved on Spark table.\nBatch 48 processado. Size: 21158\nBatch 48 flattened.\nBatch 48 Saved on Spark table.\nBatch 49 processado. Size: 21120\nBatch 49 flattened.\nBatch 49 Saved on Spark table.\nBatch 50 processado. Size: 24066\nBatch 50 flattened.\nBatch 50 Saved on Spark table.\nBatch 51 processado. Size: 23769\nBatch 51 flattened.\nBatch 51 Saved on Spark table.\nBatch 52 processado. Size: 20818\nBatch 52 flattened.\nBatch 52 Saved on Spark table.\nBatch 53 processado. Size: 23446\nBatch 53 flattened.\nBatch 53 Saved on Spark table.\nBatch 54 processado. Size: 23442\nBatch 54 flattened.\nBatch 54 Saved on Spark table.\nBatch 55 processado. Size: 20086\nBatch 55 flattened.\nBatch 55 Saved on Spark table.\nBatch 56 processado. Size: 23672\nBatch 56 flattened.\nBatch 56 Saved on Spark table.\nBatch 57 processado. Size: 20075\nBatch 57 flattened.\nBatch 57 Saved on Spark table.\nBatch 58 processado. Size: 23384\nBatch 58 flattened.\nBatch 58 Saved on Spark table.\nBatch 59 processado. Size: 23334\nBatch 59 flattened.\nBatch 59 Saved on Spark table.\nBatch 60 processado. Size: 20341\nBatch 60 flattened.\nBatch 60 Saved on Spark table.\nBatch 61 processado. Size: 23831\nBatch 61 flattened.\nBatch 61 Saved on Spark table.\nBatch 62 processado. Size: 23167\nBatch 62 flattened.\nBatch 62 Saved on Spark table.\nBatch 63 processado. Size: 20430\nBatch 63 flattened.\nBatch 63 Saved on Spark table.\nBatch 64 processado. Size: 24139\nBatch 64 flattened.\nBatch 64 Saved on Spark table.\nBatch 65 processado. Size: 23323\nBatch 65 flattened.\nBatch 65 Saved on Spark table.\nBatch 66 processado. Size: 22622\nBatch 66 flattened.\nBatch 66 Saved on Spark table.\nBatch 67 processado. Size: 21162\nBatch 67 flattened.\nBatch 67 Saved on Spark table.\nBatch 68 processado. Size: 22193\nBatch 68 flattened.\nBatch 68 Saved on Spark table.\nBatch 69 processado. Size: 22355\nBatch 69 flattened.\nBatch 69 Saved on Spark table.\nBatch 70 processado. Size: 21593\nBatch 70 flattened.\nBatch 70 Saved on Spark table.\nBatch 71 processado. Size: 22218\nBatch 71 flattened.\nBatch 71 Saved on Spark table.\nBatch 72 processado. Size: 20375\nBatch 72 flattened.\nBatch 72 Saved on Spark table.\nBatch 73 processado. Size: 20777\nBatch 73 flattened.\nBatch 73 Saved on Spark table.\nBatch 74 processado. Size: 20068\nBatch 74 flattened.\nBatch 74 Saved on Spark table.\nBatch 75 processado. Size: 21307\nBatch 75 flattened.\nBatch 75 Saved on Spark table.\nBatch 76 processado. Size: 20862\nBatch 76 flattened.\nBatch 76 Saved on Spark table.\nBatch 77 processado. Size: 22263\nBatch 77 flattened.\nBatch 77 Saved on Spark table.\nBatch 78 processado. Size: 21592\nBatch 78 flattened.\nBatch 78 Saved on Spark table.\nBatch 79 processado. Size: 21178\nBatch 79 flattened.\nBatch 79 Saved on Spark table.\nBatch 80 processado. Size: 21218\nBatch 80 flattened.\nBatch 80 Saved on Spark table.\nBatch 81 processado. Size: 21456\nBatch 81 flattened.\nBatch 81 Saved on Spark table.\nBatch 82 processado. Size: 21557\nBatch 82 flattened.\nBatch 82 Saved on Spark table.\nBatch 83 processado. Size: 22495\nBatch 83 flattened.\nBatch 83 Saved on Spark table.\nBatch 84 processado. Size: 21327\nBatch 84 flattened.\nBatch 84 Saved on Spark table.\nBatch 85 processado. Size: 20798\nBatch 85 flattened.\nBatch 85 Saved on Spark table.\nBatch 86 processado. Size: 20144\nBatch 86 flattened.\nBatch 86 Saved on Spark table.\nBatch 87 processado. Size: 23336\nBatch 87 flattened.\nBatch 87 Saved on Spark table.\nBatch 88 processado. Size: 20447\nBatch 88 flattened.\nBatch 88 Saved on Spark table.\nBatch 89 processado. Size: 19097\nBatch 89 flattened.\nBatch 89 Saved on Spark table.\n Total de eventos processados: 1976777\n"
     ]
    }
   ],
   "source": [
    "batch_size = 20000\n",
    "batch_data = []\n",
    "batch = 0\n",
    "\n",
    "spark_table_name = \"messi_data\"\n",
    "\n",
    "#Iterate over all matches\n",
    "for match_id in messi_matchesId_list:\n",
    "    events = fetch_messi_events(match_id)\n",
    "    batch_data.extend(events)\n",
    "\n",
    "    # Check if the batch has reached the desired size\n",
    "    if len(batch_data) >= batch_size:\n",
    "        batch += 1  \n",
    "        print(f\"Batch {batch} processed. Size: {len(batch_data)}\")\n",
    "        \n",
    "        # Flatten the data using pd.json_normalize\n",
    "        df_flattened = pd.json_normalize(batch_data, sep='_')\n",
    "        print(f\"Batch {batch} flattened.\")\n",
    "        \n",
    "        # Save to Spark table\n",
    "        save_to_spark(df_flattened, spark_table_name)\n",
    "        print(f\"Batch {batch} Saved on Spark table.\")\n",
    "\n",
    "        # Cleaning the Batch\n",
    "        batch_data = []\n",
    "\n",
    "# Save any remaining data in the Batch, probably the last one that didn't reach the batch size\n",
    "if batch_data:\n",
    "    batch += 1\n",
    "    print(f\"Batch {batch} processado. Size: {len(batch_data)}\")\n",
    "    \n",
    "    # Flatten the data using pd.json_normalize\n",
    "    df_flattened = pd.json_normalize(batch_data, sep='_')\n",
    "    print(f\"Batch {batch} flattened.\")\n",
    "\n",
    "    # Salvar no Spark\n",
    "    save_to_spark(df_flattened, spark_table_name)\n",
    "    print(f\"Batch {batch} Saved on Spark table.\")\n",
    "\n",
    "print(f\" Total de eventos processados: {sum(len(fetch_messi_events(match_id)) for match_id in messi_matchesId_list)}\")"
   ]
  },
  {
   "cell_type": "code",
   "execution_count": 0,
   "metadata": {
    "application/vnd.databricks.v1+cell": {
     "cellMetadata": {
      "byteLimit": 2048000,
      "rowLimit": 10000
     },
     "inputWidgets": {},
     "nuid": "69e7ce84-499d-44a4-bd2f-3c90826f53db",
     "showTitle": false,
     "title": ""
    }
   },
   "outputs": [],
   "source": [
    "# Convert a Pandas Dataframe to Spark Dataframe\n",
    "df_spark_messi = spark.table(spark_table_name)"
   ]
  },
  {
   "cell_type": "code",
   "execution_count": 0,
   "metadata": {
    "application/vnd.databricks.v1+cell": {
     "cellMetadata": {
      "byteLimit": 2048000,
      "rowLimit": 10000
     },
     "inputWidgets": {},
     "nuid": "38f8aeca-29e2-4288-9dd2-1e8f735a4eac",
     "showTitle": false,
     "title": ""
    }
   },
   "outputs": [],
   "source": [
    "# Save the DataFrame in Parquet format to DBFS.\n",
    "df_spark_messi.write.mode('overwrite').parquet(\"/FileStore/tables/messi_raw_data_parquet\")"
   ]
  }
 ],
 "metadata": {
  "application/vnd.databricks.v1+notebook": {
   "dashboards": [],
   "environmentMetadata": null,
   "language": "python",
   "notebookMetadata": {
    "mostRecentlyExecutedCommandWithImplicitDF": {
     "commandId": 2039071327393799,
     "dataframes": [
      "_sqldf"
     ]
    },
    "pythonIndentUnit": 4
   },
   "notebookName": "Bronze",
   "widgets": {}
  }
 },
 "nbformat": 4,
 "nbformat_minor": 0
}
