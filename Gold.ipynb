{
 "cells": [
  {
   "cell_type": "markdown",
   "metadata": {
    "application/vnd.databricks.v1+cell": {
     "cellMetadata": {},
     "inputWidgets": {},
     "nuid": "26db60c6-7a10-46b3-9e0d-98d86f3ac63a",
     "showTitle": false,
     "title": ""
    }
   },
   "source": [
    "#Gold Layer: Insights Extraction\n",
    " Where raw data is transformed into invaluable insights and strategic analyses. This stage marks the culmination of meticulous data processing, aggregation, and refinement, focusing on Lionel Messi's illustrious career in La Liga."
   ]
  },
  {
   "cell_type": "code",
   "execution_count": 0,
   "metadata": {
    "application/vnd.databricks.v1+cell": {
     "cellMetadata": {
      "byteLimit": 2048000,
      "rowLimit": 10000
     },
     "inputWidgets": {},
     "nuid": "210b214f-2a67-4e8c-80c0-7c426c713ddd",
     "showTitle": false,
     "title": ""
    }
   },
   "outputs": [],
   "source": [
    "# Read Parquet file\n",
    "df_spark_loaded = spark.read.format(\"parquet\").load(\"/FileStore/tables/messi_silver_done.parquet\")"
   ]
  },
  {
   "cell_type": "code",
   "execution_count": 0,
   "metadata": {
    "application/vnd.databricks.v1+cell": {
     "cellMetadata": {
      "byteLimit": 2048000,
      "rowLimit": 10000
     },
     "inputWidgets": {},
     "nuid": "694cb379-2fb2-46e8-8b45-d2590de4c784",
     "showTitle": false,
     "title": ""
    }
   },
   "outputs": [],
   "source": [
    "# Create a temporary table\n",
    "df_spark_loaded.createOrReplaceTempView(\"messi_temp_gold\")"
   ]
  },
  {
   "cell_type": "markdown",
   "metadata": {
    "application/vnd.databricks.v1+cell": {
     "cellMetadata": {},
     "inputWidgets": {},
     "nuid": "2501c0c5-0d37-4244-b952-eb81cc5d64ec",
     "showTitle": false,
     "title": ""
    }
   },
   "source": [
    "###Questions\n",
    "#### How many goals did Messi have?\n",
    "Lionel Messi scored 474 goals in La Liga, with 79% coming from Open Play, 12% from Penalty kicks, and 8% from Free Kicks."
   ]
  },
  {
   "cell_type": "code",
   "execution_count": 0,
   "metadata": {
    "application/vnd.databricks.v1+cell": {
     "cellMetadata": {
      "byteLimit": 2048000,
      "implicitDf": true,
      "rowLimit": 10000
     },
     "inputWidgets": {},
     "nuid": "7106c503-6823-4a08-85fe-157484f01ef3",
     "showTitle": false,
     "title": ""
    }
   },
   "outputs": [
    {
     "output_type": "display_data",
     "data": {
      "text/html": [
       "<style scoped>\n",
       "  .table-result-container {\n",
       "    max-height: 300px;\n",
       "    overflow: auto;\n",
       "  }\n",
       "  table, th, td {\n",
       "    border: 1px solid black;\n",
       "    border-collapse: collapse;\n",
       "  }\n",
       "  th, td {\n",
       "    padding: 5px;\n",
       "  }\n",
       "  th {\n",
       "    text-align: left;\n",
       "  }\n",
       "</style><div class='table-result-container'><table class='table-result'><thead style='background-color: white'><tr><th>shot_type_name</th><th>type_goals</th><th>percentage</th></tr></thead><tbody><tr><td>Open Play</td><td>375</td><td>79.11</td></tr><tr><td>Penalty</td><td>60</td><td>12.66</td></tr><tr><td>Free Kick</td><td>39</td><td>8.23</td></tr></tbody></table></div>"
      ]
     },
     "metadata": {
      "application/vnd.databricks.v1+output": {
       "addedWidgets": {},
       "aggData": [],
       "aggError": "",
       "aggOverflow": false,
       "aggSchema": [],
       "aggSeriesLimitReached": false,
       "aggType": "",
       "arguments": {},
       "columnCustomDisplayInfos": {},
       "data": [
        [
         "Open Play",
         375,
         "79.11"
        ],
        [
         "Penalty",
         60,
         "12.66"
        ],
        [
         "Free Kick",
         39,
         "8.23"
        ]
       ],
       "datasetInfos": [],
       "dbfsResultPath": null,
       "isJsonSchema": true,
       "metadata": {},
       "overflow": false,
       "plotOptions": {
        "customPlotOptions": {},
        "displayType": "table",
        "pivotAggregation": null,
        "pivotColumns": null,
        "xColumns": null,
        "yColumns": null
       },
       "removedWidgets": [],
       "schema": [
        {
         "metadata": "{}",
         "name": "shot_type_name",
         "type": "\"string\""
        },
        {
         "metadata": "{}",
         "name": "type_goals",
         "type": "\"long\""
        },
        {
         "metadata": "{}",
         "name": "percentage",
         "type": "\"decimal(27,2)\""
        }
       ],
       "type": "table"
      }
     },
     "output_type": "display_data"
    }
   ],
   "source": [
    "%sql\n",
    "SELECT \n",
    "    shot_type_name, \n",
    "    COUNT(*) as type_goals,\n",
    "    ROUND((COUNT(*) * 100.0) / SUM(COUNT(*)) OVER(), 2) AS percentage\n",
    "FROM \n",
    "    messi_temp_gold\n",
    "WHERE \n",
    "    shot_outcome_name = 'Goal'\n",
    "    AND player_name = 'Lionel Andrés Messi Cuccittini' \n",
    "GROUP BY \n",
    "    shot_type_name\n",
    "ORDER BY type_goals desc\n"
   ]
  },
  {
   "cell_type": "markdown",
   "metadata": {
    "application/vnd.databricks.v1+cell": {
     "cellMetadata": {},
     "inputWidgets": {},
     "nuid": "e64d3db3-4aab-4f13-8974-d721a8632821",
     "showTitle": false,
     "title": ""
    }
   },
   "source": [
    "#### Who are the top 5 players who provided the most assists to Messi?\n",
    "Luis Suárez, Dani Alves, Pedro Ledesma, Andrés Iniesta and Sergio Busquets"
   ]
  },
  {
   "cell_type": "code",
   "execution_count": 0,
   "metadata": {
    "application/vnd.databricks.v1+cell": {
     "cellMetadata": {
      "byteLimit": 2048000,
      "implicitDf": true,
      "rowLimit": 10000
     },
     "inputWidgets": {},
     "nuid": "d0da4912-2a10-4a1c-b23d-c3b62d43abf8",
     "showTitle": false,
     "title": ""
    }
   },
   "outputs": [
    {
     "output_type": "display_data",
     "data": {
      "text/html": [
       "<style scoped>\n",
       "  .table-result-container {\n",
       "    max-height: 300px;\n",
       "    overflow: auto;\n",
       "  }\n",
       "  table, th, td {\n",
       "    border: 1px solid black;\n",
       "    border-collapse: collapse;\n",
       "  }\n",
       "  th, td {\n",
       "    padding: 5px;\n",
       "  }\n",
       "  th {\n",
       "    text-align: left;\n",
       "  }\n",
       "</style><div class='table-result-container'><table class='table-result'><thead style='background-color: white'><tr><th>player_name</th><th>assist</th></tr></thead><tbody><tr><td>Luis Alberto Suárez Díaz</td><td>32</td></tr><tr><td>Daniel Alves da Silva</td><td>27</td></tr><tr><td>Pedro Eliezer Rodríguez Ledesma</td><td>18</td></tr><tr><td>Andrés Iniesta Luján</td><td>18</td></tr><tr><td>Sergio Busquets i Burgos</td><td>17</td></tr></tbody></table></div>"
      ]
     },
     "metadata": {
      "application/vnd.databricks.v1+output": {
       "addedWidgets": {},
       "aggData": [],
       "aggError": "",
       "aggOverflow": false,
       "aggSchema": [],
       "aggSeriesLimitReached": false,
       "aggType": "",
       "arguments": {},
       "columnCustomDisplayInfos": {},
       "data": [
        [
         "Luis Alberto Suárez Díaz",
         32
        ],
        [
         "Daniel Alves da Silva",
         27
        ],
        [
         "Pedro Eliezer Rodríguez Ledesma",
         18
        ],
        [
         "Andrés Iniesta Luján",
         18
        ],
        [
         "Sergio Busquets i Burgos",
         17
        ]
       ],
       "datasetInfos": [],
       "dbfsResultPath": null,
       "isJsonSchema": true,
       "metadata": {},
       "overflow": false,
       "plotOptions": {
        "customPlotOptions": {},
        "displayType": "table",
        "pivotAggregation": null,
        "pivotColumns": null,
        "xColumns": null,
        "yColumns": null
       },
       "removedWidgets": [],
       "schema": [
        {
         "metadata": "{}",
         "name": "player_name",
         "type": "\"string\""
        },
        {
         "metadata": "{}",
         "name": "assist",
         "type": "\"long\""
        }
       ],
       "type": "table"
      }
     },
     "output_type": "display_data"
    }
   ],
   "source": [
    "%sql\n",
    "SELECT \n",
    "    player_name, \n",
    "    COUNT(*) as assist\n",
    "FROM \n",
    "    messi_temp_gold\n",
    "WHERE \n",
    "    pass_goal_assist = TRUE\n",
    "    AND pass_recipient_name = 'Lionel Andrés Messi Cuccittini' \n",
    "GROUP BY \n",
    "    player_name\n",
    "ORDER BY assist desc LIMIT 5"
   ]
  },
  {
   "cell_type": "markdown",
   "metadata": {
    "application/vnd.databricks.v1+cell": {
     "cellMetadata": {},
     "inputWidgets": {},
     "nuid": "38485909-8b5b-4b5b-857b-86c905534f2d",
     "showTitle": false,
     "title": ""
    }
   },
   "source": [
    "#### Who are the top 5 players who received the most assists from Messi?\n",
    "Luis Suárez, Pedro Ledesma, Samuel Eto'o, Neymar Jr and David Villa"
   ]
  },
  {
   "cell_type": "code",
   "execution_count": 0,
   "metadata": {
    "application/vnd.databricks.v1+cell": {
     "cellMetadata": {
      "byteLimit": 2048000,
      "implicitDf": true,
      "rowLimit": 10000
     },
     "inputWidgets": {},
     "nuid": "599e2a75-22ba-483a-b036-7dad0604f67e",
     "showTitle": false,
     "title": ""
    }
   },
   "outputs": [
    {
     "output_type": "display_data",
     "data": {
      "text/html": [
       "<style scoped>\n",
       "  .table-result-container {\n",
       "    max-height: 300px;\n",
       "    overflow: auto;\n",
       "  }\n",
       "  table, th, td {\n",
       "    border: 1px solid black;\n",
       "    border-collapse: collapse;\n",
       "  }\n",
       "  th, td {\n",
       "    padding: 5px;\n",
       "  }\n",
       "  th {\n",
       "    text-align: left;\n",
       "  }\n",
       "</style><div class='table-result-container'><table class='table-result'><thead style='background-color: white'><tr><th>pass_recipient_name</th><th>assist</th></tr></thead><tbody><tr><td>Luis Alberto Suárez Díaz</td><td>30</td></tr><tr><td>Pedro Eliezer Rodríguez Ledesma</td><td>13</td></tr><tr><td>Samuel Eto''o Fils</td><td>12</td></tr><tr><td>Neymar da Silva Santos Junior</td><td>12</td></tr><tr><td>David Villa Sánchez</td><td>10</td></tr></tbody></table></div>"
      ]
     },
     "metadata": {
      "application/vnd.databricks.v1+output": {
       "addedWidgets": {},
       "aggData": [],
       "aggError": "",
       "aggOverflow": false,
       "aggSchema": [],
       "aggSeriesLimitReached": false,
       "aggType": "",
       "arguments": {},
       "columnCustomDisplayInfos": {},
       "data": [
        [
         "Luis Alberto Suárez Díaz",
         30
        ],
        [
         "Pedro Eliezer Rodríguez Ledesma",
         13
        ],
        [
         "Samuel Eto''o Fils",
         12
        ],
        [
         "Neymar da Silva Santos Junior",
         12
        ],
        [
         "David Villa Sánchez",
         10
        ]
       ],
       "datasetInfos": [],
       "dbfsResultPath": null,
       "isJsonSchema": true,
       "metadata": {},
       "overflow": false,
       "plotOptions": {
        "customPlotOptions": {},
        "displayType": "table",
        "pivotAggregation": null,
        "pivotColumns": null,
        "xColumns": null,
        "yColumns": null
       },
       "removedWidgets": [],
       "schema": [
        {
         "metadata": "{}",
         "name": "pass_recipient_name",
         "type": "\"string\""
        },
        {
         "metadata": "{}",
         "name": "assist",
         "type": "\"long\""
        }
       ],
       "type": "table"
      }
     },
     "output_type": "display_data"
    }
   ],
   "source": [
    "%sql\n",
    "SELECT \n",
    "    pass_recipient_name, \n",
    "    COUNT(*) as assist\n",
    "FROM \n",
    "    messi_temp_gold\n",
    "WHERE \n",
    "    pass_goal_assist = TRUE\n",
    "    AND player_name = 'Lionel Andrés Messi Cuccittini' \n",
    "GROUP BY \n",
    "    pass_recipient_name\n",
    "ORDER BY assist desc LIMIT 5"
   ]
  },
  {
   "cell_type": "markdown",
   "metadata": {
    "application/vnd.databricks.v1+cell": {
     "cellMetadata": {},
     "inputWidgets": {},
     "nuid": "d7eab97b-72e6-4457-9acd-1287d9b186de",
     "showTitle": false,
     "title": ""
    }
   },
   "source": [
    "#### Which parts of the body did Messi use to score his goals?\n",
    "\n",
    "The majority of Lionel Messi's goals in La Liga, 83%, were scored with his Left Foot, with the remaining 17% divided among Right Foot, Head, and other parts of his body. \n"
   ]
  },
  {
   "cell_type": "code",
   "execution_count": 0,
   "metadata": {
    "application/vnd.databricks.v1+cell": {
     "cellMetadata": {
      "byteLimit": 2048000,
      "implicitDf": true,
      "rowLimit": 10000
     },
     "inputWidgets": {},
     "nuid": "ea6b2075-45ad-46f2-a295-aa711a85d5ed",
     "showTitle": false,
     "title": ""
    }
   },
   "outputs": [
    {
     "output_type": "display_data",
     "data": {
      "text/html": [
       "<style scoped>\n",
       "  .table-result-container {\n",
       "    max-height: 300px;\n",
       "    overflow: auto;\n",
       "  }\n",
       "  table, th, td {\n",
       "    border: 1px solid black;\n",
       "    border-collapse: collapse;\n",
       "  }\n",
       "  th, td {\n",
       "    padding: 5px;\n",
       "  }\n",
       "  th {\n",
       "    text-align: left;\n",
       "  }\n",
       "</style><div class='table-result-container'><table class='table-result'><thead style='background-color: white'><tr><th>shot_body_part_name</th><th>body_part_goals</th><th>percentage</th></tr></thead><tbody><tr><td>Left Foot</td><td>396</td><td>83.54</td></tr><tr><td>Right Foot</td><td>61</td><td>12.87</td></tr><tr><td>Head</td><td>16</td><td>3.38</td></tr><tr><td>Other</td><td>1</td><td>0.21</td></tr></tbody></table></div>"
      ]
     },
     "metadata": {
      "application/vnd.databricks.v1+output": {
       "addedWidgets": {},
       "aggData": [],
       "aggError": "",
       "aggOverflow": false,
       "aggSchema": [],
       "aggSeriesLimitReached": false,
       "aggType": "",
       "arguments": {},
       "columnCustomDisplayInfos": {},
       "data": [
        [
         "Left Foot",
         396,
         "83.54"
        ],
        [
         "Right Foot",
         61,
         "12.87"
        ],
        [
         "Head",
         16,
         "3.38"
        ],
        [
         "Other",
         1,
         "0.21"
        ]
       ],
       "datasetInfos": [],
       "dbfsResultPath": null,
       "isJsonSchema": true,
       "metadata": {},
       "overflow": false,
       "plotOptions": {
        "customPlotOptions": {},
        "displayType": "table",
        "pivotAggregation": null,
        "pivotColumns": null,
        "xColumns": null,
        "yColumns": null
       },
       "removedWidgets": [],
       "schema": [
        {
         "metadata": "{}",
         "name": "shot_body_part_name",
         "type": "\"string\""
        },
        {
         "metadata": "{}",
         "name": "body_part_goals",
         "type": "\"long\""
        },
        {
         "metadata": "{}",
         "name": "percentage",
         "type": "\"decimal(27,2)\""
        }
       ],
       "type": "table"
      }
     },
     "output_type": "display_data"
    }
   ],
   "source": [
    "%sql\n",
    "SELECT \n",
    "    shot_body_part_name, \n",
    "    COUNT(*) as body_part_goals,\n",
    "    ROUND((COUNT(*) * 100.0) / SUM(COUNT(*)) OVER(), 2) AS percentage\n",
    "FROM \n",
    "    messi_temp_gold\n",
    "WHERE \n",
    "    shot_outcome_name = 'Goal'\n",
    "    AND player_name = 'Lionel Andrés Messi Cuccittini' \n",
    "GROUP BY \n",
    "    shot_body_part_name\n",
    "ORDER BY body_part_goals desc"
   ]
  },
  {
   "cell_type": "markdown",
   "metadata": {
    "application/vnd.databricks.v1+cell": {
     "cellMetadata": {},
     "inputWidgets": {},
     "nuid": "46ac3654-d4cc-41a4-a21b-244afb4fa7a4",
     "showTitle": false,
     "title": ""
    }
   },
   "source": [
    "####In which position did he score the most goals?\n",
    "The majority goals were scored while he was playing as a Right Wing (41%) and Center Forward (38%) in La Liga. "
   ]
  },
  {
   "cell_type": "code",
   "execution_count": 0,
   "metadata": {
    "application/vnd.databricks.v1+cell": {
     "cellMetadata": {
      "byteLimit": 2048000,
      "implicitDf": true,
      "rowLimit": 10000
     },
     "inputWidgets": {},
     "nuid": "8fa7bf73-b53a-47bc-bf5c-97628641b3a1",
     "showTitle": false,
     "title": ""
    }
   },
   "outputs": [
    {
     "output_type": "display_data",
     "data": {
      "text/html": [
       "<style scoped>\n",
       "  .table-result-container {\n",
       "    max-height: 300px;\n",
       "    overflow: auto;\n",
       "  }\n",
       "  table, th, td {\n",
       "    border: 1px solid black;\n",
       "    border-collapse: collapse;\n",
       "  }\n",
       "  th, td {\n",
       "    padding: 5px;\n",
       "  }\n",
       "  th {\n",
       "    text-align: left;\n",
       "  }\n",
       "</style><div class='table-result-container'><table class='table-result'><thead style='background-color: white'><tr><th>position_name</th><th>position_player</th><th>percentage</th></tr></thead><tbody><tr><td>Right Wing</td><td>198</td><td>41.77</td></tr><tr><td>Center Forward</td><td>184</td><td>38.82</td></tr><tr><td>Right Center Forward</td><td>44</td><td>9.28</td></tr><tr><td>Center Attacking Midfield</td><td>30</td><td>6.33</td></tr><tr><td>Right Center Midfield</td><td>5</td><td>1.05</td></tr><tr><td>Left Center Forward</td><td>5</td><td>1.05</td></tr><tr><td>Right Attacking Midfield</td><td>4</td><td>0.84</td></tr><tr><td>Left Wing</td><td>3</td><td>0.63</td></tr><tr><td>Left Center Midfield</td><td>1</td><td>0.21</td></tr></tbody></table></div>"
      ]
     },
     "metadata": {
      "application/vnd.databricks.v1+output": {
       "addedWidgets": {},
       "aggData": [],
       "aggError": "",
       "aggOverflow": false,
       "aggSchema": [],
       "aggSeriesLimitReached": false,
       "aggType": "",
       "arguments": {},
       "columnCustomDisplayInfos": {},
       "data": [
        [
         "Right Wing",
         198,
         "41.77"
        ],
        [
         "Center Forward",
         184,
         "38.82"
        ],
        [
         "Right Center Forward",
         44,
         "9.28"
        ],
        [
         "Center Attacking Midfield",
         30,
         "6.33"
        ],
        [
         "Right Center Midfield",
         5,
         "1.05"
        ],
        [
         "Left Center Forward",
         5,
         "1.05"
        ],
        [
         "Right Attacking Midfield",
         4,
         "0.84"
        ],
        [
         "Left Wing",
         3,
         "0.63"
        ],
        [
         "Left Center Midfield",
         1,
         "0.21"
        ]
       ],
       "datasetInfos": [],
       "dbfsResultPath": null,
       "isJsonSchema": true,
       "metadata": {},
       "overflow": false,
       "plotOptions": {
        "customPlotOptions": {},
        "displayType": "table",
        "pivotAggregation": null,
        "pivotColumns": null,
        "xColumns": null,
        "yColumns": null
       },
       "removedWidgets": [],
       "schema": [
        {
         "metadata": "{}",
         "name": "position_name",
         "type": "\"string\""
        },
        {
         "metadata": "{}",
         "name": "position_player",
         "type": "\"long\""
        },
        {
         "metadata": "{}",
         "name": "percentage",
         "type": "\"decimal(27,2)\""
        }
       ],
       "type": "table"
      }
     },
     "output_type": "display_data"
    }
   ],
   "source": [
    "%sql\n",
    "SELECT \n",
    "    position_name, \n",
    "    COUNT(*) as position_player,\n",
    "    ROUND((COUNT(*) * 100.0) / SUM(COUNT(*)) OVER(), 2) AS percentage\n",
    "FROM \n",
    "    messi_temp_gold\n",
    "WHERE\n",
    "    shot_outcome_name = 'Goal'\n",
    "    AND player_name = 'Lionel Andrés Messi Cuccittini' \n",
    "GROUP BY \n",
    "    position_name\n",
    "ORDER BY position_player desc"
   ]
  },
  {
   "cell_type": "markdown",
   "metadata": {
    "application/vnd.databricks.v1+cell": {
     "cellMetadata": {},
     "inputWidgets": {},
     "nuid": "ec472f28-ca88-4330-a75f-1f5f0e5f7857",
     "showTitle": false,
     "title": ""
    }
   },
   "source": [
    "#### What were the outcomes of his shots (off the post, off target, saved, goals)?\n",
    "\n",
    "Below is the table with each result of his shots on goal, but I would like to highlight a possible Pareto principle, as 20% of his shots on goal resulted in goals."
   ]
  },
  {
   "cell_type": "code",
   "execution_count": 0,
   "metadata": {
    "application/vnd.databricks.v1+cell": {
     "cellMetadata": {
      "byteLimit": 2048000,
      "implicitDf": true,
      "rowLimit": 10000
     },
     "inputWidgets": {},
     "nuid": "8ac87cd3-fdf4-45c2-badb-5c8605f9395b",
     "showTitle": false,
     "title": ""
    }
   },
   "outputs": [
    {
     "output_type": "display_data",
     "data": {
      "text/html": [
       "<style scoped>\n",
       "  .table-result-container {\n",
       "    max-height: 300px;\n",
       "    overflow: auto;\n",
       "  }\n",
       "  table, th, td {\n",
       "    border: 1px solid black;\n",
       "    border-collapse: collapse;\n",
       "  }\n",
       "  th, td {\n",
       "    padding: 5px;\n",
       "  }\n",
       "  th {\n",
       "    text-align: left;\n",
       "  }\n",
       "</style><div class='table-result-container'><table class='table-result'><thead style='background-color: white'><tr><th>shot_outcome_name</th><th>shots</th><th>percentage</th></tr></thead><tbody><tr><td>Saved</td><td>644</td><td>27.33</td></tr><tr><td>Blocked</td><td>571</td><td>24.24</td></tr><tr><td>Off T</td><td>541</td><td>22.96</td></tr><tr><td>Goal</td><td>474</td><td>20.12</td></tr><tr><td>Post</td><td>75</td><td>3.18</td></tr><tr><td>Wayward</td><td>30</td><td>1.27</td></tr><tr><td>Saved to Post</td><td>13</td><td>0.55</td></tr><tr><td>Saved Off Target</td><td>8</td><td>0.34</td></tr></tbody></table></div>"
      ]
     },
     "metadata": {
      "application/vnd.databricks.v1+output": {
       "addedWidgets": {},
       "aggData": [],
       "aggError": "",
       "aggOverflow": false,
       "aggSchema": [],
       "aggSeriesLimitReached": false,
       "aggType": "",
       "arguments": {},
       "columnCustomDisplayInfos": {},
       "data": [
        [
         "Saved",
         644,
         "27.33"
        ],
        [
         "Blocked",
         571,
         "24.24"
        ],
        [
         "Off T",
         541,
         "22.96"
        ],
        [
         "Goal",
         474,
         "20.12"
        ],
        [
         "Post",
         75,
         "3.18"
        ],
        [
         "Wayward",
         30,
         "1.27"
        ],
        [
         "Saved to Post",
         13,
         "0.55"
        ],
        [
         "Saved Off Target",
         8,
         "0.34"
        ]
       ],
       "datasetInfos": [],
       "dbfsResultPath": null,
       "isJsonSchema": true,
       "metadata": {},
       "overflow": false,
       "plotOptions": {
        "customPlotOptions": {},
        "displayType": "table",
        "pivotAggregation": null,
        "pivotColumns": null,
        "xColumns": null,
        "yColumns": null
       },
       "removedWidgets": [],
       "schema": [
        {
         "metadata": "{}",
         "name": "shot_outcome_name",
         "type": "\"string\""
        },
        {
         "metadata": "{}",
         "name": "shots",
         "type": "\"long\""
        },
        {
         "metadata": "{}",
         "name": "percentage",
         "type": "\"decimal(27,2)\""
        }
       ],
       "type": "table"
      }
     },
     "output_type": "display_data"
    }
   ],
   "source": [
    "%sql\n",
    "SELECT \n",
    "    shot_outcome_name, \n",
    "    COUNT(*) as shots,\n",
    "    ROUND((COUNT(*) * 100.0) / SUM(COUNT(*)) OVER(), 2) AS percentage\n",
    "FROM \n",
    "    messi_temp_gold\n",
    "WHERE\n",
    "    shot_outcome_name IS NOT NULL\n",
    "    AND player_name = 'Lionel Andrés Messi Cuccittini' \n",
    "GROUP BY \n",
    "    shot_outcome_name\n",
    "ORDER BY shots desc"
   ]
  },
  {
   "cell_type": "markdown",
   "metadata": {
    "application/vnd.databricks.v1+cell": {
     "cellMetadata": {},
     "inputWidgets": {},
     "nuid": "0098a3a7-dabe-4f16-abda-b1f52538e1ea",
     "showTitle": false,
     "title": ""
    }
   },
   "source": [
    "#### A fun fact: Lionel Messi completed 94 nutmegs during his career in La Liga."
   ]
  },
  {
   "cell_type": "code",
   "execution_count": 0,
   "metadata": {
    "application/vnd.databricks.v1+cell": {
     "cellMetadata": {
      "byteLimit": 2048000,
      "implicitDf": true,
      "rowLimit": 10000
     },
     "inputWidgets": {},
     "nuid": "eb07901a-873c-47dc-abd8-7329104f397e",
     "showTitle": false,
     "title": ""
    }
   },
   "outputs": [
    {
     "output_type": "display_data",
     "data": {
      "text/html": [
       "<style scoped>\n",
       "  .table-result-container {\n",
       "    max-height: 300px;\n",
       "    overflow: auto;\n",
       "  }\n",
       "  table, th, td {\n",
       "    border: 1px solid black;\n",
       "    border-collapse: collapse;\n",
       "  }\n",
       "  th, td {\n",
       "    padding: 5px;\n",
       "  }\n",
       "  th {\n",
       "    text-align: left;\n",
       "  }\n",
       "</style><div class='table-result-container'><table class='table-result'><thead style='background-color: white'><tr><th>dribble_outcome_name</th><th>dribbles</th><th>percentage</th></tr></thead><tbody><tr><td>Complete</td><td>94</td><td>64.38</td></tr><tr><td>Incomplete</td><td>52</td><td>35.62</td></tr></tbody></table></div>"
      ]
     },
     "metadata": {
      "application/vnd.databricks.v1+output": {
       "addedWidgets": {},
       "aggData": [],
       "aggError": "",
       "aggOverflow": false,
       "aggSchema": [],
       "aggSeriesLimitReached": false,
       "aggType": "",
       "arguments": {},
       "columnCustomDisplayInfos": {},
       "data": [
        [
         "Complete",
         94,
         "64.38"
        ],
        [
         "Incomplete",
         52,
         "35.62"
        ]
       ],
       "datasetInfos": [],
       "dbfsResultPath": null,
       "isJsonSchema": true,
       "metadata": {},
       "overflow": false,
       "plotOptions": {
        "customPlotOptions": {},
        "displayType": "table",
        "pivotAggregation": null,
        "pivotColumns": null,
        "xColumns": null,
        "yColumns": null
       },
       "removedWidgets": [],
       "schema": [
        {
         "metadata": "{}",
         "name": "dribble_outcome_name",
         "type": "\"string\""
        },
        {
         "metadata": "{}",
         "name": "dribbles",
         "type": "\"long\""
        },
        {
         "metadata": "{}",
         "name": "percentage",
         "type": "\"decimal(27,2)\""
        }
       ],
       "type": "table"
      }
     },
     "output_type": "display_data"
    }
   ],
   "source": [
    "%sql\n",
    "SELECT \n",
    "    dribble_outcome_name,\n",
    "    COUNT(*) as dribbles,\n",
    "    ROUND((COUNT(*) * 100.0) / SUM(COUNT(*)) OVER(), 2) AS percentage\n",
    "FROM \n",
    "    messi_temp_gold\n",
    "WHERE \n",
    "    dribble_nutmeg = TRUE\n",
    "    AND player_name = 'Lionel Andrés Messi Cuccittini' \n",
    "GROUP BY \n",
    "    dribble_outcome_name \n",
    "ORDER BY dribbles desc "
   ]
  },
  {
   "cell_type": "markdown",
   "metadata": {
    "application/vnd.databricks.v1+cell": {
     "cellMetadata": {},
     "inputWidgets": {},
     "nuid": "cc64739c-9ffb-4da3-8d23-4ead4d20fc68",
     "showTitle": false,
     "title": ""
    }
   },
   "source": [
    "####Extra querys"
   ]
  },
  {
   "cell_type": "code",
   "execution_count": 0,
   "metadata": {
    "application/vnd.databricks.v1+cell": {
     "cellMetadata": {
      "byteLimit": 2048000,
      "implicitDf": true,
      "rowLimit": 10000
     },
     "inputWidgets": {},
     "nuid": "4f9ed2cd-1a20-4816-8d7b-61304b13ec30",
     "showTitle": false,
     "title": ""
    }
   },
   "outputs": [
    {
     "output_type": "display_data",
     "data": {
      "text/html": [
       "<style scoped>\n",
       "  .table-result-container {\n",
       "    max-height: 300px;\n",
       "    overflow: auto;\n",
       "  }\n",
       "  table, th, td {\n",
       "    border: 1px solid black;\n",
       "    border-collapse: collapse;\n",
       "  }\n",
       "  th, td {\n",
       "    padding: 5px;\n",
       "  }\n",
       "  th {\n",
       "    text-align: left;\n",
       "  }\n",
       "</style><div class='table-result-container'><table class='table-result'><thead style='background-color: white'><tr><th>count(1)</th></tr></thead><tbody><tr><td>150</td></tr></tbody></table></div>"
      ]
     },
     "metadata": {
      "application/vnd.databricks.v1+output": {
       "addedWidgets": {},
       "aggData": [],
       "aggError": "",
       "aggOverflow": false,
       "aggSchema": [],
       "aggSeriesLimitReached": false,
       "aggType": "",
       "arguments": {},
       "columnCustomDisplayInfos": {},
       "data": [
        [
         150
        ]
       ],
       "datasetInfos": [],
       "dbfsResultPath": null,
       "isJsonSchema": true,
       "metadata": {},
       "overflow": false,
       "plotOptions": {
        "customPlotOptions": {},
        "displayType": "table",
        "pivotAggregation": null,
        "pivotColumns": null,
        "xColumns": null,
        "yColumns": null
       },
       "removedWidgets": [],
       "schema": [
        {
         "metadata": "{\"__autoGeneratedAlias\":\"true\"}",
         "name": "count(1)",
         "type": "\"long\""
        }
       ],
       "type": "table"
      }
     },
     "output_type": "display_data"
    }
   ],
   "source": [
    "%sql\n",
    "SELECT \n",
    "    COUNT(*)\n",
    "FROM \n",
    "    messi_temp_gold\n",
    "WHERE\n",
    "    shot_first_time = TRUE\n",
    "    AND shot_outcome_name = 'Goal'\n",
    "    AND player_name = 'Lionel Andrés Messi Cuccittini' \n",
    "\n"
   ]
  },
  {
   "cell_type": "code",
   "execution_count": 0,
   "metadata": {
    "application/vnd.databricks.v1+cell": {
     "cellMetadata": {
      "byteLimit": 2048000,
      "implicitDf": true,
      "rowLimit": 10000
     },
     "inputWidgets": {},
     "nuid": "4902b45b-58ca-4655-a79c-06967b82c7c6",
     "showTitle": false,
     "title": ""
    }
   },
   "outputs": [
    {
     "output_type": "display_data",
     "data": {
      "text/html": [
       "<style scoped>\n",
       "  .table-result-container {\n",
       "    max-height: 300px;\n",
       "    overflow: auto;\n",
       "  }\n",
       "  table, th, td {\n",
       "    border: 1px solid black;\n",
       "    border-collapse: collapse;\n",
       "  }\n",
       "  th, td {\n",
       "    padding: 5px;\n",
       "  }\n",
       "  th {\n",
       "    text-align: left;\n",
       "  }\n",
       "</style><div class='table-result-container'><table class='table-result'><thead style='background-color: white'><tr><th>shot_technique_name</th><th>shots_technique</th><th>percentage</th></tr></thead><tbody><tr><td>Normal</td><td>2043</td><td>86.71</td></tr><tr><td>Half Volley</td><td>144</td><td>6.11</td></tr><tr><td>Volley</td><td>82</td><td>3.48</td></tr><tr><td>Lob</td><td>76</td><td>3.23</td></tr><tr><td>Diving Header</td><td>5</td><td>0.21</td></tr><tr><td>Overhead Kick</td><td>5</td><td>0.21</td></tr><tr><td>Backheel</td><td>1</td><td>0.04</td></tr></tbody></table></div>"
      ]
     },
     "metadata": {
      "application/vnd.databricks.v1+output": {
       "addedWidgets": {},
       "aggData": [],
       "aggError": "",
       "aggOverflow": false,
       "aggSchema": [],
       "aggSeriesLimitReached": false,
       "aggType": "",
       "arguments": {},
       "columnCustomDisplayInfos": {},
       "data": [
        [
         "Normal",
         2043,
         "86.71"
        ],
        [
         "Half Volley",
         144,
         "6.11"
        ],
        [
         "Volley",
         82,
         "3.48"
        ],
        [
         "Lob",
         76,
         "3.23"
        ],
        [
         "Diving Header",
         5,
         "0.21"
        ],
        [
         "Overhead Kick",
         5,
         "0.21"
        ],
        [
         "Backheel",
         1,
         "0.04"
        ]
       ],
       "datasetInfos": [],
       "dbfsResultPath": null,
       "isJsonSchema": true,
       "metadata": {},
       "overflow": false,
       "plotOptions": {
        "customPlotOptions": {},
        "displayType": "table",
        "pivotAggregation": null,
        "pivotColumns": null,
        "xColumns": null,
        "yColumns": null
       },
       "removedWidgets": [],
       "schema": [
        {
         "metadata": "{}",
         "name": "shot_technique_name",
         "type": "\"string\""
        },
        {
         "metadata": "{}",
         "name": "shots_technique",
         "type": "\"long\""
        },
        {
         "metadata": "{}",
         "name": "percentage",
         "type": "\"decimal(27,2)\""
        }
       ],
       "type": "table"
      }
     },
     "output_type": "display_data"
    }
   ],
   "source": [
    "%sql\n",
    "SELECT \n",
    "    shot_technique_name, \n",
    "    COUNT(*) as shots_technique,\n",
    "    ROUND((COUNT(*) * 100.0) / SUM(COUNT(*)) OVER(), 2) AS percentage\n",
    "FROM \n",
    "    messi_temp_gold\n",
    "WHERE\n",
    "    shot_technique_name IS NOT NULL\n",
    "    AND player_name = 'Lionel Andrés Messi Cuccittini' \n",
    "GROUP BY \n",
    "    shot_technique_name\n",
    "ORDER BY shots_technique desc"
   ]
  },
  {
   "cell_type": "code",
   "execution_count": 0,
   "metadata": {
    "application/vnd.databricks.v1+cell": {
     "cellMetadata": {
      "byteLimit": 2048000,
      "implicitDf": true,
      "rowLimit": 10000
     },
     "inputWidgets": {},
     "nuid": "981456dd-6e67-4e42-b523-2b201dbd1365",
     "showTitle": false,
     "title": ""
    }
   },
   "outputs": [
    {
     "output_type": "display_data",
     "data": {
      "text/html": [
       "<style scoped>\n",
       "  .table-result-container {\n",
       "    max-height: 300px;\n",
       "    overflow: auto;\n",
       "  }\n",
       "  table, th, td {\n",
       "    border: 1px solid black;\n",
       "    border-collapse: collapse;\n",
       "  }\n",
       "  th, td {\n",
       "    padding: 5px;\n",
       "  }\n",
       "  th {\n",
       "    text-align: left;\n",
       "  }\n",
       "</style><div class='table-result-container'><table class='table-result'><thead style='background-color: white'><tr><th>shot_technique_name</th><th>shots_technique_on_goal</th><th>percentage</th></tr></thead><tbody><tr><td>Normal</td><td>393</td><td>82.91</td></tr><tr><td>Lob</td><td>32</td><td>6.75</td></tr><tr><td>Half Volley</td><td>27</td><td>5.70</td></tr><tr><td>Volley</td><td>19</td><td>4.01</td></tr><tr><td>Diving Header</td><td>3</td><td>0.63</td></tr></tbody></table></div>"
      ]
     },
     "metadata": {
      "application/vnd.databricks.v1+output": {
       "addedWidgets": {},
       "aggData": [],
       "aggError": "",
       "aggOverflow": false,
       "aggSchema": [],
       "aggSeriesLimitReached": false,
       "aggType": "",
       "arguments": {},
       "columnCustomDisplayInfos": {},
       "data": [
        [
         "Normal",
         393,
         "82.91"
        ],
        [
         "Lob",
         32,
         "6.75"
        ],
        [
         "Half Volley",
         27,
         "5.70"
        ],
        [
         "Volley",
         19,
         "4.01"
        ],
        [
         "Diving Header",
         3,
         "0.63"
        ]
       ],
       "datasetInfos": [],
       "dbfsResultPath": null,
       "isJsonSchema": true,
       "metadata": {},
       "overflow": false,
       "plotOptions": {
        "customPlotOptions": {},
        "displayType": "table",
        "pivotAggregation": null,
        "pivotColumns": null,
        "xColumns": null,
        "yColumns": null
       },
       "removedWidgets": [],
       "schema": [
        {
         "metadata": "{}",
         "name": "shot_technique_name",
         "type": "\"string\""
        },
        {
         "metadata": "{}",
         "name": "shots_technique_on_goal",
         "type": "\"long\""
        },
        {
         "metadata": "{}",
         "name": "percentage",
         "type": "\"decimal(27,2)\""
        }
       ],
       "type": "table"
      }
     },
     "output_type": "display_data"
    }
   ],
   "source": [
    "%sql\n",
    "SELECT \n",
    "    shot_technique_name, \n",
    "    COUNT(*) as shots_technique_on_goal,\n",
    "    ROUND((COUNT(*) * 100.0) / SUM(COUNT(*)) OVER(), 2) AS percentage\n",
    "FROM \n",
    "    messi_temp_gold\n",
    "WHERE\n",
    "    shot_outcome_name = 'Goal'\n",
    "    AND player_name = 'Lionel Andrés Messi Cuccittini' \n",
    "GROUP BY \n",
    "    shot_technique_name\n",
    "ORDER BY shots_technique_on_goal desc"
   ]
  }
 ],
 "metadata": {
  "application/vnd.databricks.v1+notebook": {
   "dashboards": [],
   "environmentMetadata": null,
   "language": "python",
   "notebookMetadata": {
    "mostRecentlyExecutedCommandWithImplicitDF": {
     "commandId": 3991677440004993,
     "dataframes": [
      "_sqldf"
     ]
    },
    "pythonIndentUnit": 4
   },
   "notebookName": "Gold",
   "widgets": {}
  }
 },
 "nbformat": 4,
 "nbformat_minor": 0
}
